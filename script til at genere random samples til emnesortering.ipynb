{
 "cells": [
  {
   "cell_type": "code",
   "execution_count": null,
   "metadata": {
    "collapsed": true
   },
   "outputs": [],
   "source": [
    "# generate 2000 random rows for sampling\n",
    "df1_p_sample = df1_p.sample(n=1999, random_state=1) \n",
    "# split the samples into 4\n",
    "part1_sample1 = df1_p_sample[0:499]\n",
    "part1_sample2 = df1_p_sample[500:999]\n",
    "part1_sample3 = df1_p_sample[1000:1499]\n",
    "part1_sample4 = df1_p_sample[1500:1999]\n",
    "# concatenate all combinations of 3 parts of the sample\n",
    "f1 = pd.concat([pd.concat([part1_sample2, part1_sample3]), part1_sample4])\n",
    "f2 = pd.concat([pd.concat([part1_sample1, part1_sample3]), part1_sample4])\n",
    "f3 = pd.concat([pd.concat([part1_sample1, part1_sample2]), part1_sample4])\n",
    "f4 = pd.concat([pd.concat([part1_sample1, part1_sample2]), part1_sample3])\n",
    "# generate a random sample af the groups of 3\n",
    "part2_sample1 = f1.sample(frac=0.0333, random_state=2)\n",
    "part2_sample2 = f2.sample(frac=0.0333, random_state=3)\n",
    "part2_sample3 = f3.sample(frac=0.0333, random_state=4)\n",
    "part2_sample4 = f4.sample(frac=0.0333, random_state=5)\n",
    "# concat every part of the sample, with the randomly generated sample from the group, that it was not a part of.\n",
    "sample1 = pd.concat([part1_sample1, part2_sample1])\n",
    "sample2 = pd.concat([part1_sample2, part2_sample2])\n",
    "sample3 = pd.concat([part1_sample3, part2_sample3])\n",
    "sample4 = pd.concat([part1_sample4, part2_sample4])\n",
    "# extract each dataframe as csv file.\n",
    "sample1.to_csv('sample1.csv')\n",
    "sample2.to_csv('sample2.csv')\n",
    "sample3.to_csv('sample3.csv')\n",
    "sample4.to_csv('sample4.csv')"
   ]
  }
 ],
 "metadata": {
  "kernelspec": {
   "display_name": "Python 3",
   "language": "python",
   "name": "python3"
  },
  "language_info": {
   "codemirror_mode": {
    "name": "ipython",
    "version": 3
   },
   "file_extension": ".py",
   "mimetype": "text/x-python",
   "name": "python",
   "nbconvert_exporter": "python",
   "pygments_lexer": "ipython3",
   "version": "3.6.1"
  }
 },
 "nbformat": 4,
 "nbformat_minor": 2
}
