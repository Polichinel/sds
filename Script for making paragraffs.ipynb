{
 "cells": [
  {
   "cell_type": "code",
   "execution_count": 30,
   "metadata": {},
   "outputs": [],
   "source": [
    "import pandas as pd\n",
    "import numpy as np\n",
    "import sklearn\n",
    "import re\n",
    "import seaborn as sns\n",
    "import matplotlib.pyplot as plt\n",
    "from sklearn.cross_validation import train_test_split as tts\n",
    "import statsmodels.formula.api as smf\n",
    "import nltk\n",
    "sns.set\n",
    "%matplotlib inline"
   ]
  },
  {
   "cell_type": "code",
   "execution_count": 212,
   "metadata": {
    "collapsed": true
   },
   "outputs": [],
   "source": [
    "df1 = pd.read_csv('13300.csv') ## Hent DataFrame\n",
    "text = df1['text'] # Ekstraher alle tekster til en liste\n",
    "\n",
    "tekster = text[0:13300] # sætter et interval blandt tekster til behandling\n",
    "paragraffs = [] # holdinglist til alle paragraffer (resultatet bliver en liste i en liste)\n",
    "### looper over alle tekster.\n",
    "for i in test1:\n",
    "    try:\n",
    "        val = nltk.tokenize.line_tokenize(i) #tokenizer på linjeskift(paragraffer) \n",
    "        paragraffs.append(val) \n",
    "    except (AttributeError) as err: ## printer Error, som value, når der ikke forekommer en tekst\n",
    "        val = 'Error'               ## Vi printer Error, som value, for at beholde det rette index\n",
    "        paragraffs.append(val)      ##\n",
    "\n",
    "df1['paragraffs'] = paragraffs # paragrafferne tilføjes til DF, som en liste med strings.\n",
    "# der laves en ny dataframe, hvor listerne paragraffer foldes ud.\n",
    "df_para = df1.apply(lambda x: pd.Series(x['paragraffs']), axis=1).stack().reset_index(level=1, drop=True)\n",
    "df_para.name = 'paragraffer'\n",
    "# dataframes merges til en endelig datafram, hvor alle paragraffer er foldet ud. \n",
    "df1_p = df1.drop('paragraffs', axis=1).join(df_para)\n",
    "df1_p = df1_p.drop('Unnamed: 0', axis=1)"
   ]
  }
 ],
 "metadata": {
  "kernelspec": {
   "display_name": "Python 3",
   "language": "python",
   "name": "python3"
  },
  "language_info": {
   "codemirror_mode": {
    "name": "ipython",
    "version": 3
   },
   "file_extension": ".py",
   "mimetype": "text/x-python",
   "name": "python",
   "nbconvert_exporter": "python",
   "pygments_lexer": "ipython3",
   "version": "3.6.1"
  }
 },
 "nbformat": 4,
 "nbformat_minor": 2
}
