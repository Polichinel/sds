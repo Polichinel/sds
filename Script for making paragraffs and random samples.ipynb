{
 "cells": [
  {
   "cell_type": "code",
   "execution_count": 14,
   "metadata": {},
   "outputs": [],
   "source": [
    "import pandas as pd\n",
    "import numpy as np\n",
    "import sklearn\n",
    "import re\n",
    "import seaborn as sns\n",
    "import matplotlib.pyplot as plt\n",
    "from sklearn.cross_validation import train_test_split as tts\n",
    "import statsmodels.formula.api as smf\n",
    "import nltk\n",
    "sns.set\n",
    "%matplotlib inline"
   ]
  },
  {
   "cell_type": "code",
   "execution_count": 15,
   "metadata": {
    "collapsed": true
   },
   "outputs": [],
   "source": [
    "df1 = pd.read_csv('13300.csv') ## Hent DataFrame\n",
    "text = df1['text'] # Ekstraher alle tekster til en liste\n",
    "\n",
    "tekster = text[0:13300] # sætter et interval blandt tekster til behandling\n",
    "paragraffs = [] # holdinglist til alle paragraffer (resultatet bliver en liste i en liste)\n",
    "### looper over alle tekster.\n",
    "for i in tekster:\n",
    "    try:\n",
    "        val = nltk.tokenize.line_tokenize(i).lower() #tokenizer på linjeskift(paragraffer) \n",
    "        paragraffs.append(val) \n",
    "    except (AttributeError) as err: ## printer Error, som value, når der ikke forekommer en tekst\n",
    "        val = 'Error'               ## Vi printer Error, som value, for at beholde det rette index\n",
    "        paragraffs.append(val)      ##\n",
    "\n",
    "df1['paragraffs'] = paragraffs # paragrafferne tilføjes til DF, som en liste med strings.\n",
    "# der laves en ny dataframe, hvor listerne paragraffer foldes ud.\n",
    "df_para = df1.apply(lambda x: pd.Series(x['paragraffs']), axis=1).stack().reset_index(level=1, drop=True)\n",
    "df_para.name = 'paragraffer'\n",
    "# dataframes merges til en endelig datafram, hvor alle paragraffer er foldet ud. \n",
    "df1_p = df1.drop('paragraffs', axis=1).join(df_para)\n",
    "df1_p = df1_p.drop('Unnamed: 0', axis=1)"
   ]
  },
  {
   "cell_type": "code",
   "execution_count": 16,
   "metadata": {
    "collapsed": true
   },
   "outputs": [],
   "source": [
    "# Tilføj emner til dataframe\n",
    "emner = ['international politik','økonomi & velfærd','ret & politi','familie & børn','uddannelse','kultur & religion','køn & ligestilling','medier, kommunikation & it','miljø & klima','flygtninge & intengrationspolitik','andet','ignore']\n",
    "for i in emner:\n",
    "    df1_p[i] = pd.Series()"
   ]
  },
  {
   "cell_type": "code",
   "execution_count": 17,
   "metadata": {
    "collapsed": true
   },
   "outputs": [],
   "source": [
    "# generate 2000 random rows for sampling\n",
    "df1_p_sample = df1_p.sample(n=1999, random_state=1) \n",
    "# split the samples into 4\n",
    "part1_sample1 = df1_p_sample[0:499]\n",
    "part1_sample2 = df1_p_sample[500:999]\n",
    "part1_sample3 = df1_p_sample[1000:1499]\n",
    "part1_sample4 = df1_p_sample[1500:1999]\n",
    "# concatenate all combinations of 3 parts of the sample\n",
    "f1 = pd.concat([pd.concat([part1_sample2, part1_sample3]), part1_sample4])\n",
    "f2 = pd.concat([pd.concat([part1_sample1, part1_sample3]), part1_sample4])\n",
    "f3 = pd.concat([pd.concat([part1_sample1, part1_sample2]), part1_sample4])\n",
    "f4 = pd.concat([pd.concat([part1_sample1, part1_sample2]), part1_sample3])\n",
    "# generate a random sample af the groups of 3\n",
    "part2_sample1 = f1.sample(frac=0.0333, random_state=2)\n",
    "part2_sample2 = f2.sample(frac=0.0333, random_state=3)\n",
    "part2_sample3 = f3.sample(frac=0.0333, random_state=4)\n",
    "part2_sample4 = f4.sample(frac=0.0333, random_state=5)\n",
    "# concat every part of the sample, with the randomly generated sample from the group, that it was not a part of.\n",
    "sample1 = pd.concat([part1_sample1, part2_sample1])\n",
    "sample2 = pd.concat([part1_sample2, part2_sample2])\n",
    "sample3 = pd.concat([part1_sample3, part2_sample3])\n",
    "sample4 = pd.concat([part1_sample4, part2_sample4])\n",
    "# extract each dataframe as csv file.\n",
    "sample1.to_csv('sample1.csv')\n",
    "sample2.to_csv('sample2.csv')\n",
    "sample3.to_csv('sample3.csv')\n",
    "sample4.to_csv('sample4.csv')"
   ]
  },
  {
   "cell_type": "code",
   "execution_count": 18,
   "metadata": {
    "collapsed": true
   },
   "outputs": [],
   "source": [
    "from pandas import ExcelWriter\n",
    "# gem samples som excel filer\n",
    "writer1 = ExcelWriter('sample1_17_08.xlsx')\n",
    "sample1.to_excel(writer1,'Sheet1')\n",
    "writer1.save()\n",
    "\n",
    "writer2 = ExcelWriter('sample2_17_08.xlsx')\n",
    "sample2.to_excel(writer2,'Sheet1')\n",
    "writer2.save()\n",
    "\n",
    "writer3 = ExcelWriter('sample3_17_08.xlsx')\n",
    "sample3.to_excel(writer3,'Sheet1')\n",
    "writer3.save()\n",
    "\n",
    "writer4 = ExcelWriter('sample4_17_08.xlsx')\n",
    "sample4.to_excel(writer4,'Sheet1')\n",
    "writer4.save()"
   ]
  }
 ],
 "metadata": {
  "kernelspec": {
   "display_name": "Python 3",
   "language": "python",
   "name": "python3"
  },
  "language_info": {
   "codemirror_mode": {
    "name": "ipython",
    "version": 3
   },
   "file_extension": ".py",
   "mimetype": "text/x-python",
   "name": "python",
   "nbconvert_exporter": "python",
   "pygments_lexer": "ipython3",
   "version": "3.6.1"
  }
 },
 "nbformat": 4,
 "nbformat_minor": 2
}
