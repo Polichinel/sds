{
 "cells": [
  {
   "cell_type": "code",
   "execution_count": 1,
   "metadata": {
    "collapsed": true
   },
   "outputs": [],
   "source": [
    "import pandas as pd\n",
    "import numpy as np\n",
    "import matplotlib.pyplot as plt\n",
    "\n",
    "%matplotlib inline"
   ]
  },
  {
   "cell_type": "code",
   "execution_count": 93,
   "metadata": {
    "collapsed": false
   },
   "outputs": [],
   "source": [
    "def leder_laeserbreve(dataframe):\n",
    "    \"\"\"\n",
    "    Funktioner der opretter leder og læserbrevevariabel\n",
    "    Input: DataFrame\n",
    "    Ouput: DataFrame med to yderligere variable\n",
    "    \"\"\"\n",
    "    dataframe['leder'] = [1 if '/debat/leder/' in li else 0 for li in df['links']]\n",
    "    dataframe['lbreve'] = [1 if '/laeserbreve-' in li else 0 for li in df['links']]\n",
    "    return dataframe"
   ]
  },
  {
   "cell_type": "code",
   "execution_count": 182,
   "metadata": {
    "collapsed": false
   },
   "outputs": [],
   "source": [
    "#datoer = df.loc[:, 'date']\n",
    "#datoer.sample(20)\n",
    "mon = {'januar':'Jan',\n",
    "       'februar':'Feb',\n",
    "       'marts':'Mar', \n",
    "       'april':'Apr',\n",
    "       'maj':'May',\n",
    "       'juni':'Jun',\n",
    "       'juli':'Jul',\n",
    "       'august':'Aug',\n",
    "       'september':'Sep',\n",
    "       'oktober':'Oct',\n",
    "       'november':'Nov',\n",
    "       'december':'Dec'}"
   ]
  },
  {
   "cell_type": "code",
   "execution_count": 183,
   "metadata": {
    "collapsed": false
   },
   "outputs": [],
   "source": [
    "def dato_omskriv(ds):\n",
    "    try:\n",
    "        ds = str(ds)\n",
    "        #print(ds)\n",
    "        dag = ds.replace('.','')\n",
    "        #print(dag)\n",
    "        mdr = dag.split(' ')[1]\n",
    "        dag = dag.replace(mdr,mon[mdr])\n",
    "        dat = datetime.strptime(dag, '%d %b %Y')\n",
    "    except (IndexError, TypeError, UnboundLocalError, KeyError):\n",
    "        dat = np.nan\n",
    "    return dat"
   ]
  }
 ],
 "metadata": {
  "kernelspec": {
   "display_name": "Python [Root]",
   "language": "python",
   "name": "Python [Root]"
  },
  "language_info": {
   "codemirror_mode": {
    "name": "ipython",
    "version": 3
   },
   "file_extension": ".py",
   "mimetype": "text/x-python",
   "name": "python",
   "nbconvert_exporter": "python",
   "pygments_lexer": "ipython3",
   "version": "3.5.2"
  }
 },
 "nbformat": 4,
 "nbformat_minor": 2
}
