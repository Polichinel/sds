{
 "cells": [
  {
   "cell_type": "code",
   "execution_count": 11,
   "metadata": {},
   "outputs": [],
   "source": [
    "import pandas as pd\n",
    "\n",
    "df1 = pd.read_csv('sample1.csv', encoding='ISO-8859-1', index_col=['Unnamed: 0'])\n",
    "df2 = pd.read_csv('sample2.csv', encoding='ISO-8859-1', index_col=['Unnamed: 0'])\n",
    "df3 = pd.read_csv('sample3.csv', encoding='ISO-8859-1', index_col=['Unnamed: 0'])\n",
    "df4 = pd.read_csv('sample4.csv', encoding='ISO-8859-1', index_col=['Unnamed: 0'])"
   ]
  },
  {
   "cell_type": "code",
   "execution_count": 16,
   "metadata": {},
   "outputs": [],
   "source": [
    "from pandas import ExcelWriter\n",
    "\n",
    "#writer1 = ExcelWriter('sample1.xlsx')\n",
    "#df1.to_excel(writer1,'Sheet1')\n",
    "#writer1.save()\n",
    "\n",
    "writer2 = ExcelWriter('sample2.xlsx')\n",
    "df2.to_excel(writer2,'Sheet1')\n",
    "writer2.save()\n",
    "\n",
    "writer3 = ExcelWriter('sample3.xlsx')\n",
    "df3.to_excel(writer3,'Sheet1')\n",
    "writer3.save()\n",
    "\n",
    "writer4 = ExcelWriter('sample4.xlsx')\n",
    "df4.to_excel(writer4,'Sheet1')\n",
    "writer4.save()"
   ]
  }
 ],
 "metadata": {
  "kernelspec": {
   "display_name": "Python 3",
   "language": "python",
   "name": "python3"
  },
  "language_info": {
   "codemirror_mode": {
    "name": "ipython",
    "version": 3
   },
   "file_extension": ".py",
   "mimetype": "text/x-python",
   "name": "python",
   "nbconvert_exporter": "python",
   "pygments_lexer": "ipython3",
   "version": "3.6.1"
  }
 },
 "nbformat": 4,
 "nbformat_minor": 2
}
